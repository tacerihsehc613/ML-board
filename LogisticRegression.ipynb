{
  "nbformat": 4,
  "nbformat_minor": 0,
  "metadata": {
    "colab": {
      "provenance": [],
      "authorship_tag": "ABX9TyOe4cf9ITa+wEXlWJinjGWk",
      "include_colab_link": true
    },
    "kernelspec": {
      "name": "python3",
      "display_name": "Python 3"
    },
    "language_info": {
      "name": "python"
    }
  },
  "cells": [
    {
      "cell_type": "markdown",
      "metadata": {
        "id": "view-in-github",
        "colab_type": "text"
      },
      "source": [
        "<a href=\"https://colab.research.google.com/github/tacerihsehc613/ML-board/blob/main/LogisticRegression.ipynb\" target=\"_parent\"><img src=\"https://colab.research.google.com/assets/colab-badge.svg\" alt=\"Open In Colab\"/></a>"
      ]
    },
    {
      "cell_type": "code",
      "execution_count": null,
      "metadata": {
        "colab": {
          "base_uri": "https://localhost:8080/"
        },
        "id": "BI67Cu5EMOJO",
        "outputId": "a06ba1cf-9f56-408f-fed7-7283db44ac33"
      },
      "outputs": [
        {
          "output_type": "stream",
          "name": "stdout",
          "text": [
            "Requirement already satisfied: numpy==1.19.4 in /usr/local/lib/python3.7/dist-packages (1.19.4)\n",
            "Requirement already satisfied: matplotlib==3.3.3 in /usr/local/lib/python3.7/dist-packages (3.3.3)\n",
            "Requirement already satisfied: pillow>=6.2.0 in /usr/local/lib/python3.7/dist-packages (from matplotlib==3.3.3) (7.1.2)\n",
            "Requirement already satisfied: numpy>=1.15 in /usr/local/lib/python3.7/dist-packages (from matplotlib==3.3.3) (1.19.4)\n",
            "Requirement already satisfied: kiwisolver>=1.0.1 in /usr/local/lib/python3.7/dist-packages (from matplotlib==3.3.3) (1.3.2)\n",
            "Requirement already satisfied: pyparsing!=2.0.4,!=2.1.2,!=2.1.6,>=2.0.3 in /usr/local/lib/python3.7/dist-packages (from matplotlib==3.3.3) (3.0.7)\n",
            "Requirement already satisfied: python-dateutil>=2.1 in /usr/local/lib/python3.7/dist-packages (from matplotlib==3.3.3) (2.8.2)\n",
            "Requirement already satisfied: cycler>=0.10 in /usr/local/lib/python3.7/dist-packages (from matplotlib==3.3.3) (0.11.0)\n",
            "Requirement already satisfied: six>=1.5 in /usr/local/lib/python3.7/dist-packages (from python-dateutil>=2.1->matplotlib==3.3.3) (1.15.0)\n",
            "Requirement already satisfied: scikit-learn==0.24.0 in /usr/local/lib/python3.7/dist-packages (0.24.0)\n",
            "Requirement already satisfied: scipy>=0.19.1 in /usr/local/lib/python3.7/dist-packages (from scikit-learn==0.24.0) (1.4.1)\n",
            "Requirement already satisfied: threadpoolctl>=2.0.0 in /usr/local/lib/python3.7/dist-packages (from scikit-learn==0.24.0) (3.1.0)\n",
            "Requirement already satisfied: joblib>=0.11 in /usr/local/lib/python3.7/dist-packages (from scikit-learn==0.24.0) (1.1.0)\n",
            "Requirement already satisfied: numpy>=1.13.3 in /usr/local/lib/python3.7/dist-packages (from scikit-learn==0.24.0) (1.19.4)\n"
          ]
        }
      ],
      "source": [
        "# import stuff that we need\n",
        "import numpy as np\n",
        "import matplotlib as mpl\n",
        "import matplotlib.pyplot as plt\n",
        "import sklearn\n",
        "import sklearn.datasets as ds\n",
        "from IPython.display import clear_output # if you get problem with this import you can skip it, it is used to print the cost later which can be skipped\n",
        "\n",
        "!pip install numpy==1.19.4\n",
        "!pip install matplotlib==3.3.3\n",
        "!pip install scikit-learn==0.24.0"
      ]
    },
    {
      "cell_type": "code",
      "source": [
        "assert np.__version__ == \"1.19.4\", \"Looks like you don't have the same version of numpy as us!\"\n",
        "assert mpl.__version__ == \"3.3.3\", \"Looks like you don't have the same version of matplotlib as us!\"\n",
        "assert sklearn.__version__ == \"0.24.0\", \"Looks like you don't have the same version of sklearn as us!\""
      ],
      "metadata": {
        "id": "usBYsJ9MMimA"
      },
      "execution_count": null,
      "outputs": []
    },
    {
      "cell_type": "code",
      "source": [
        "data = ds.load_iris()\n",
        "\n",
        "selected_features_idx = [0,1] #'sepal length (cm)', 'sepal width (cm)'\n",
        "selected_targets = [0,1] #'setosa' 'versicolor'\n",
        "\n",
        "idx = np.array([x in selected_targets for x in data.target])\n",
        "x = data.data[:,selected_features_idx][idx]\n",
        "y = data.target[idx]\n",
        "y[y > 1] = 1 # Reset labels greater than 1 to 1"
      ],
      "metadata": {
        "id": "O60Gj5LSMlBI"
      },
      "execution_count": null,
      "outputs": []
    },
    {
      "cell_type": "code",
      "source": [
        "plt.figure()\n",
        "for label in np.unique(y):\n",
        "    plt.scatter(x[:,0][y==label],x[:,1][y==label], label = data.target_names[label])\n",
        "plt.legend()\n",
        "plt.show()"
      ],
      "metadata": {
        "colab": {
          "base_uri": "https://localhost:8080/",
          "height": 268
        },
        "id": "ZPwko35ZMnnl",
        "outputId": "81151c5d-2448-4046-e507-ce9d5a9a0140"
      },
      "execution_count": null,
      "outputs": [
        {
          "output_type": "display_data",
          "data": {
            "image/png": "[encoded data removed]",
            "text/plain": [
              "<Figure size 432x288 with 1 Axes>"
            ]
          },
          "metadata": {
            "needs_background": "light"
          }
        }
      ]
    },
    {
      "cell_type": "code",
      "source": [
        "from scipy.special import expit\n",
        "def z_x(x, bias, weights):\n",
        "    \"\"\" param x: vector containing measurements. x = [x1, x2]\n",
        "        param bias: single value\n",
        "        param weight: vector containing model weights. weights= [w1,w2]\n",
        "        \n",
        "        return: value of logistic regression model for defined x, bias and weights\n",
        "    \"\"\"\n",
        "    x=np.array(x)\n",
        "    weights=np.array(weights)\n",
        "    #return(expit(sum(x*weights).item()+bias))\n",
        "    return 1 / (1 + np.exp(-(sum(x*weights).item()+bias)))"
      ],
      "metadata": {
        "id": "NrVq0J6uMstX"
      },
      "execution_count": null,
      "outputs": []
    },
    {
      "cell_type": "code",
      "source": [
        "bias = np.random.normal()\n",
        "weights = np.random.normal(size = len(x[0]))\n",
        "\n",
        "predicted = []\n",
        "for i in range(len(x)):\n",
        "    yhat = z_x(x[i], bias, weights)\n",
        "    predicted.append(round(yhat))\n",
        "\n",
        "print('Accuracy: ', np.sum(np.equal(y,predicted)) / len(predicted))"
      ],
      "metadata": {
        "colab": {
          "base_uri": "https://localhost:8080/"
        },
        "id": "zom0reaRMvva",
        "outputId": "fed7bfde-c449-4c0c-b3d4-6cb24a1316e6"
      },
      "execution_count": null,
      "outputs": [
        {
          "output_type": "stream",
          "name": "stdout",
          "text": [
            "Accuracy:  0.5\n"
          ]
        }
      ]
    },
    {
      "cell_type": "code",
      "source": [
        "x_values = x[:,0]\n",
        "y_values = - (bias + weights[0]*x_values) / weights[1]\n",
        "\n",
        "plt.figure()\n",
        "plt.scatter(x[:,0][y==0],x[:,1][y==0], label = '0')\n",
        "plt.scatter(x[:,0][y==1],x[:,1][y==1], label = '2')\n",
        "plt.plot(x_values, y_values, label='Decision Boundary')\n",
        "plt.legend()\n",
        "plt.show()"
      ],
      "metadata": {
        "colab": {
          "base_uri": "https://localhost:8080/",
          "height": 265
        },
        "id": "_s-ZuE_kM3HS",
        "outputId": "aba60abc-7842-4a0a-ca82-25d6cdbde752"
      },
      "execution_count": null,
      "outputs": [
        {
          "output_type": "display_data",
          "data": {
            "image/png": "[encoded data removed]",
            "text/plain": [
              "<Figure size 432x288 with 1 Axes>"
            ]
          },
          "metadata": {
            "needs_background": "light"
          }
        }
      ]
    },
    {
      "cell_type": "code",
      "source": [
        "def cost_function(y, x, bias, weights):\n",
        "    \"\"\" param y: Ground truth label for measurements\n",
        "        param x: vector containing measurements. x = [x1, x2]\n",
        "        param bias: single value\n",
        "        param weight: vector containing model weights. weights= [w1,w2]\n",
        "    \n",
        "        return: value of the cost function. In this case BCE\n",
        "    \"\"\"\n",
        "    z = z_x(x, bias, weights)\n",
        "    cost = (-y * np.log(z) - (1 - y) * np.log(1 - z))\n",
        "    return cost"
      ],
      "metadata": {
        "id": "lfEBTgobM59x"
      },
      "execution_count": null,
      "outputs": []
    },
    {
      "cell_type": "code",
      "source": [
        "def derivative_weights(y, x, bias, weights):\n",
        "    \"\"\" param y: Ground truth label for measurements\n",
        "        param x: vector containing measurements. x = [x1, x2]\n",
        "        param bias: single value\n",
        "        param weight: vector containing model weights. weights= [w1,w2]\n",
        "    \n",
        "        return: derivative of cost function with respect to the weights, dw = [dw1, dw2]\n",
        "    \"\"\"\n",
        "    z = z_x(x, bias, weights)\n",
        "    dw1 = x[0]*(z-y)\n",
        "    dw2 = x[1]*(z-y)\n",
        "    cost_deriv = [dw1, dw2]\n",
        "    return cost_deriv"
      ],
      "metadata": {
        "id": "eLxajBc3NBSX"
      },
      "execution_count": null,
      "outputs": []
    },
    {
      "cell_type": "code",
      "source": [
        "def derivative_bias(y, x, bias, weights):\n",
        "    \"\"\" param y: Ground truth label for measurements\n",
        "        param x: vector containing measurements. x = [x1, x2]\n",
        "        param bias: single value\n",
        "        param weight: vector containing model weights. weights= [w1,w2]\n",
        "    \n",
        "        return: derivative of cost function with respect to the bias\n",
        "    \"\"\"\n",
        "    z = z_x(x, bias, weights)\n",
        "    cost_deriv = z-y\n",
        "    return cost_deriv "
      ],
      "metadata": {
        "id": "qkoJMdH-NEZ9"
      },
      "execution_count": null,
      "outputs": []
    },
    {
      "cell_type": "code",
      "source": [
        "lr = 0.2 #<-- specify learning rate\n",
        "\n",
        "#initialize weights and bias as random\n",
        "bias = np.random.normal()\n",
        "weights = np.random.normal(size = len(x[0]))\n",
        "\n",
        "\n",
        "number_of_iterations = 50 #<-- number of iterations to perform gradient descent\n",
        "\n",
        "#Loop through training data and update the weights at each iteration\n",
        "m=len(x)\n",
        "for it in range(number_of_iterations):\n",
        "# .. Code for gradient descent for logistic regression\n",
        "  dw1=weights[0]\n",
        "  dw2=weights[1]\n",
        "  w1=0\n",
        "  w2=0\n",
        "  b0=0\n",
        "  for i in range(len(x)):\n",
        "    z = z_x(x[i], bias, weights)\n",
        "    c_sum=0\n",
        "    c_sum += cost_function(y[i], x[i], bias, weights)\n",
        "    w = derivative_weights(y[i], x[i], bias, weights)\n",
        "    w1+=w[0]\n",
        "    w2+=w[1]\n",
        "    b0 += derivative_bias(y[i], x[i], bias, weights)\n",
        "  cost=c_sum / m\n",
        "  w1 = w1 / m\n",
        "  w2 = w2 / m\n",
        "  b0 = b0 / m\n",
        "  weights[0] = weights[0] - lr * w1\n",
        "  weights[1] = weights[1] - lr * w2\n",
        "  bias = bias - lr * b0\n",
        "  clear_output(wait=True) # This is used to clear the output for cleaner printing, can be removed if it causes trouble.\n",
        "  print('iteration: ', it, ' cost: ', cost) # In this case the variable for the current cost is called \"cost\""
      ],
      "metadata": {
        "colab": {
          "base_uri": "https://localhost:8080/"
        },
        "id": "Rcp3vg9wNISu",
        "outputId": "21b79ccc-52b4-49b9-b25a-1a5b2e111efc"
      },
      "execution_count": null,
      "outputs": [
        {
          "output_type": "stream",
          "name": "stdout",
          "text": [
            "iteration:  49  cost:  0.004349733121236157\n"
          ]
        }
      ]
    },
    {
      "cell_type": "code",
      "source": [
        "predicted = []\n",
        "for i in range(len(x)):\n",
        "    yhat = z_x(x[i], bias, weights)\n",
        "    predicted.append(round(yhat))\n",
        "\n",
        "print('Accuracy: ', np.sum(np.equal(y,predicted)) / len(predicted))"
      ],
      "metadata": {
        "colab": {
          "base_uri": "https://localhost:8080/"
        },
        "id": "Z_yy_QOqNQfN",
        "outputId": "0c0219c2-a794-4465-cafb-01236f059652"
      },
      "execution_count": null,
      "outputs": [
        {
          "output_type": "stream",
          "name": "stdout",
          "text": [
            "Accuracy:  0.99\n"
          ]
        }
      ]
    },
    {
      "cell_type": "code",
      "source": [
        "x_values = x[:,0]\n",
        "y_values = - (bias + weights[0]*x_values) / weights[1]\n",
        "\n",
        "plt.figure()\n",
        "for label in np.unique(y):\n",
        "    plt.scatter(x[:,0][y==label],x[:,1][y==label], label = data.target_names[label])\n",
        "plt.plot(x_values, y_values, label='Decision Boundary')\n",
        "plt.legend()\n",
        "plt.show()"
      ],
      "metadata": {
        "id": "fPENTwhZNUgI",
        "outputId": "b00320ff-845a-40dc-a2f1-d2abab6fe092",
        "colab": {
          "base_uri": "https://localhost:8080/",
          "height": 268
        }
      },
      "execution_count": null,
      "outputs": [
        {
          "output_type": "display_data",
          "data": {
            "image/png": "[encoded data removed]",
            "text/plain": [
              "<Figure size 432x288 with 1 Axes>"
            ]
          },
          "metadata": {
            "needs_background": "light"
          }
        }
      ]
    }
  ]
}