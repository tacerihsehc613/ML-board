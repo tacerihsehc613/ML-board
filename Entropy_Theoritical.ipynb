{
  "nbformat": 4,
  "nbformat_minor": 0,
  "metadata": {
    "colab": {
      "provenance": [],
      "authorship_tag": "ABX9TyNAziMx44lSt/K1Zuc+ZIbj",
      "include_colab_link": true
    },
    "kernelspec": {
      "name": "python3",
      "display_name": "Python 3"
    },
    "language_info": {
      "name": "python"
    }
  },
  "cells": [
    {
      "cell_type": "markdown",
      "metadata": {
        "id": "view-in-github",
        "colab_type": "text"
      },
      "source": [
        "<a href=\"https://colab.research.google.com/github/tacerihsehc613/ML-board/blob/main/Entropy_Theoritical.ipynb\" target=\"_parent\"><img src=\"https://colab.research.google.com/assets/colab-badge.svg\" alt=\"Open In Colab\"/></a>"
      ]
    },
    {
      "cell_type": "code",
      "execution_count": null,
      "metadata": {
        "colab": {
          "base_uri": "https://localhost:8080/"
        },
        "id": "0cy7qA4z6EFk",
        "outputId": "37bbf673-2772-45fc-8ccf-35cf7609f81f"
      },
      "outputs": [
        {
          "output_type": "stream",
          "name": "stdout",
          "text": [
            "Looking in indexes: https://pypi.org/simple, https://us-python.pkg.dev/colab-wheels/public/simple/\n",
            "Collecting treelib\n",
            "  Downloading treelib-1.6.1.tar.gz (24 kB)\n",
            "Requirement already satisfied: future in /usr/local/lib/python3.7/dist-packages (from treelib) (0.16.0)\n",
            "Building wheels for collected packages: treelib\n",
            "  Building wheel for treelib (setup.py) ... \u001b[?25l\u001b[?25hdone\n",
            "  Created wheel for treelib: filename=treelib-1.6.1-py3-none-any.whl size=18385 sha256=48fdf08f310c0b65cff950328f2a4b600b4aaa1c8ede752fabbee4bf49b01147\n",
            "  Stored in directory: /root/.cache/pip/wheels/89/be/94/2c6d949ce599d1443426d83ba4dc93cd35c0f4638260930a53\n",
            "Successfully built treelib\n",
            "Installing collected packages: treelib\n",
            "Successfully installed treelib-1.6.1\n"
          ]
        }
      ],
      "source": [
        "!pip install treelib\n",
        "import numpy as np\n",
        "import matplotlib.pyplot as plt\n",
        "import matplotlib.ticker as mtick\n",
        "import pandas as pd\n",
        "from treelib import Node, Tree"
      ]
    },
    {
      "cell_type": "code",
      "source": [
        "# Domain of the parameter p of a Bernoulli rv: p ∈ [0, 1]\n",
        "p = np.linspace(0, 1, 1000)\n",
        "\n",
        "def xln2x(x):\n",
        "    \"\"\" Computes x * log_2(x) in a safe way.\"\"\"\n",
        "    # If x is not a numpy array, it becomes one\n",
        "    if not isinstance(x, np.ndarray):\n",
        "        x = np.array(x)\n",
        "    # STUDENT CODE:\n",
        "    P0 = x\n",
        "    P1 = 1 - P0\n",
        "    H = - P0 * np.log2(P0) - P1 * np.log2(P1)\n",
        "    return H\n",
        "\n",
        "# STUDENT CODE:\n",
        "# Use the entropy formula you found in Step 1 above.\n",
        "entropy = xln2x(p)\n",
        "\n",
        "plt.figure()\n",
        "plt.title(\"Entropy of a Bernoulli random variable\")\n",
        "plt.plot(p, entropy)\n",
        "plt.xlabel(\"Probability of heads\")\n",
        "plt.gca().get_xaxis().set_major_formatter(mtick.PercentFormatter(1.0))\n",
        "plt.ylabel(\"Entropy [bits]\")\n",
        "plt.grid()\n",
        "plt.show()"
      ],
      "metadata": {
        "colab": {
          "base_uri": "https://localhost:8080/",
          "height": 366
        },
        "id": "ZdxmEmrf6U-S",
        "outputId": "cf26a224-9aa0-4503-cf65-8ff80941a330"
      },
      "execution_count": null,
      "outputs": [
        {
          "output_type": "stream",
          "name": "stderr",
          "text": [
            "/usr/local/lib/python3.7/dist-packages/ipykernel_launcher.py:12: RuntimeWarning: divide by zero encountered in log2\n",
            "  if sys.path[0] == '':\n",
            "/usr/local/lib/python3.7/dist-packages/ipykernel_launcher.py:12: RuntimeWarning: invalid value encountered in multiply\n",
            "  if sys.path[0] == '':\n"
          ]
        },
        {
          "output_type": "display_data",
          "data": {
            "text/plain": [
              "<Figure size 432x288 with 1 Axes>"
            ],
            "image/png": "[encoded data removed]"
          },
          "metadata": {
            "needs_background": "light"
          }
        }
      ]
    },
    {
      "cell_type": "code",
      "source": [
        "import math\n",
        "def binary_entropy(seq):\n",
        "  \"\"\" Returns the empirical entropy of a sequence.\n",
        "  Input values should contain only 0s and 1s.\"\"\"\n",
        "  # If seq is not a numpy array, it becomes one\n",
        "  if not isinstance(seq, np.ndarray):\n",
        "    seq = np.array(seq)\n",
        "  # STUDENT CODE:\n",
        "  prob_dict = {}\n",
        "  classes = set(seq)\n",
        "  total_samples = len(seq)\n",
        "  for i in classes: \n",
        "    count = (seq==i).sum()\n",
        "    #print (\"class = \",i, \"count = \", count)\n",
        "    prob_dict[i] = count/total_samples\n",
        "  total_entropy = 0.0\n",
        "  for i in classes:\n",
        "    total_entropy += -1 * (prob_dict[i]) * math.log2 ( prob_dict[i])\n",
        "  return total_entropy\n",
        "\n",
        "assert binary_entropy([0]) == 0, \"Failed test 1\"\n",
        "assert binary_entropy([0, 1]) == 1, \"Failed test 2\"\n",
        "assert binary_entropy([0]*10 + [1]*10) == 1, \"Failed test 3\"\n",
        "assert np.abs(binary_entropy([0] + [1]*8) - 0.50326) < 1e-5, \"Failed test 4\"\n",
        "assert binary_entropy([]) == 0, \"Failed test 5\""
      ],
      "metadata": {
        "id": "WCNqwISs6aup"
      },
      "execution_count": null,
      "outputs": []
    },
    {
      "cell_type": "code",
      "source": [
        "# Download and load the dataset into pandas\n",
        "dataset_url = \"https://raw.githubusercontent.com/earthtojake/20q/master/data/small.csv\"\n",
        "# There is a bigger dataset at\n",
        "#dataset_url = \"https://raw.githubusercontent.com/earthtojake/20q/master/data/big.csv\"\n",
        "df = pd.read_csv(dataset_url, index_col=0) \n",
        "df.head()"
      ],
      "metadata": {
        "colab": {
          "base_uri": "https://localhost:8080/",
          "height": 206
        },
        "id": "qov9fSK86fmE",
        "outputId": "ce7728a6-c0c3-458a-99e8-ddea9e6828aa"
      },
      "execution_count": null,
      "outputs": [
        {
          "output_type": "execute_result",
          "data": {
            "text/plain": [
              "      is it warm blooded?  can it fly?  is it a vertebrate?  \\\n",
              "ant                     0            0                    0   \n",
              "bee                     0            1                    0   \n",
              "cat                     1            0                    1   \n",
              "cpl                     0            0                    0   \n",
              "duck                    1            1                    1   \n",
              "\n",
              "      is it endangered?  does it live in groups?  does it have hair?  \n",
              "ant                   0                        1                   0  \n",
              "bee                   0                        1                   1  \n",
              "cat                   0                        0                   1  \n",
              "cpl                   0                        0                   1  \n",
              "duck                  0                        1                   0  "
            ],
            "text/html": [
              "\n",
              "  <div id=\"df-e7825644-5f5c-4cfa-a4e3-453c0f161e1b\">\n",
              "    <div class=\"colab-df-container\">\n",
              "      <div>\n",
              "<style scoped>\n",
              "    .dataframe tbody tr th:only-of-type {\n",
              "        vertical-align: middle;\n",
              "    }\n",
              "\n",
              "    .dataframe tbody tr th {\n",
              "        vertical-align: top;\n",
              "    }\n",
              "\n",
              "    .dataframe thead th {\n",
              "        text-align: right;\n",
              "    }\n",
              "</style>\n",
              "<table border=\"1\" class=\"dataframe\">\n",
              "  <thead>\n",
              "    <tr style=\"text-align: right;\">\n",
              "      <th></th>\n",
              "      <th>is it warm blooded?</th>\n",
              "      <th>can it fly?</th>\n",
              "      <th>is it a vertebrate?</th>\n",
              "      <th>is it endangered?</th>\n",
              "      <th>does it live in groups?</th>\n",
              "      <th>does it have hair?</th>\n",
              "    </tr>\n",
              "  </thead>\n",
              "  <tbody>\n",
              "    <tr>\n",
              "      <th>ant</th>\n",
              "      <td>0</td>\n",
              "      <td>0</td>\n",
              "      <td>0</td>\n",
              "      <td>0</td>\n",
              "      <td>1</td>\n",
              "      <td>0</td>\n",
              "    </tr>\n",
              "    <tr>\n",
              "      <th>bee</th>\n",
              "      <td>0</td>\n",
              "      <td>1</td>\n",
              "      <td>0</td>\n",
              "      <td>0</td>\n",
              "      <td>1</td>\n",
              "      <td>1</td>\n",
              "    </tr>\n",
              "    <tr>\n",
              "      <th>cat</th>\n",
              "      <td>1</td>\n",
              "      <td>0</td>\n",
              "      <td>1</td>\n",
              "      <td>0</td>\n",
              "      <td>0</td>\n",
              "      <td>1</td>\n",
              "    </tr>\n",
              "    <tr>\n",
              "      <th>cpl</th>\n",
              "      <td>0</td>\n",
              "      <td>0</td>\n",
              "      <td>0</td>\n",
              "      <td>0</td>\n",
              "      <td>0</td>\n",
              "      <td>1</td>\n",
              "    </tr>\n",
              "    <tr>\n",
              "      <th>duck</th>\n",
              "      <td>1</td>\n",
              "      <td>1</td>\n",
              "      <td>1</td>\n",
              "      <td>0</td>\n",
              "      <td>1</td>\n",
              "      <td>0</td>\n",
              "    </tr>\n",
              "  </tbody>\n",
              "</table>\n",
              "</div>\n",
              "      <button class=\"colab-df-convert\" onclick=\"convertToInteractive('df-e7825644-5f5c-4cfa-a4e3-453c0f161e1b')\"\n",
              "              title=\"Convert this dataframe to an interactive table.\"\n",
              "              style=\"display:none;\">\n",
              "        \n",
              "  <svg xmlns=\"http://www.w3.org/2000/svg\" height=\"24px\"viewBox=\"0 0 24 24\"\n",
              "       width=\"24px\">\n",
              "    <path d=\"M0 0h24v24H0V0z\" fill=\"none\"/>\n",
              "    <path d=\"M18.56 5.44l.94 2.06.94-2.06 2.06-.94-2.06-.94-.94-2.06-.94 2.06-2.06.94zm-11 1L8.5 8.5l.94-2.06 2.06-.94-2.06-.94L8.5 2.5l-.94 2.06-2.06.94zm10 10l.94 2.06.94-2.06 2.06-.94-2.06-.94-.94-2.06-.94 2.06-2.06.94z\"/><path d=\"M17.41 7.96l-1.37-1.37c-.4-.4-.92-.59-1.43-.59-.52 0-1.04.2-1.43.59L10.3 9.45l-7.72 7.72c-.78.78-.78 2.05 0 2.83L4 21.41c.39.39.9.59 1.41.59.51 0 1.02-.2 1.41-.59l7.78-7.78 2.81-2.81c.8-.78.8-2.07 0-2.86zM5.41 20L4 18.59l7.72-7.72 1.47 1.35L5.41 20z\"/>\n",
              "  </svg>\n",
              "      </button>\n",
              "      \n",
              "  <style>\n",
              "    .colab-df-container {\n",
              "      display:flex;\n",
              "      flex-wrap:wrap;\n",
              "      gap: 12px;\n",
              "    }\n",
              "\n",
              "    .colab-df-convert {\n",
              "      background-color: #E8F0FE;\n",
              "      border: none;\n",
              "      border-radius: 50%;\n",
              "      cursor: pointer;\n",
              "      display: none;\n",
              "      fill: #1967D2;\n",
              "      height: 32px;\n",
              "      padding: 0 0 0 0;\n",
              "      width: 32px;\n",
              "    }\n",
              "\n",
              "    .colab-df-convert:hover {\n",
              "      background-color: #E2EBFA;\n",
              "      box-shadow: 0px 1px 2px rgba(60, 64, 67, 0.3), 0px 1px 3px 1px rgba(60, 64, 67, 0.15);\n",
              "      fill: #174EA6;\n",
              "    }\n",
              "\n",
              "    [theme=dark] .colab-df-convert {\n",
              "      background-color: #3B4455;\n",
              "      fill: #D2E3FC;\n",
              "    }\n",
              "\n",
              "    [theme=dark] .colab-df-convert:hover {\n",
              "      background-color: #434B5C;\n",
              "      box-shadow: 0px 1px 3px 1px rgba(0, 0, 0, 0.15);\n",
              "      filter: drop-shadow(0px 1px 2px rgba(0, 0, 0, 0.3));\n",
              "      fill: #FFFFFF;\n",
              "    }\n",
              "  </style>\n",
              "\n",
              "      <script>\n",
              "        const buttonEl =\n",
              "          document.querySelector('#df-e7825644-5f5c-4cfa-a4e3-453c0f161e1b button.colab-df-convert');\n",
              "        buttonEl.style.display =\n",
              "          google.colab.kernel.accessAllowed ? 'block' : 'none';\n",
              "\n",
              "        async function convertToInteractive(key) {\n",
              "          const element = document.querySelector('#df-e7825644-5f5c-4cfa-a4e3-453c0f161e1b');\n",
              "          const dataTable =\n",
              "            await google.colab.kernel.invokeFunction('convertToInteractive',\n",
              "                                                     [key], {});\n",
              "          if (!dataTable) return;\n",
              "\n",
              "          const docLinkHtml = 'Like what you see? Visit the ' +\n",
              "            '<a target=\"_blank\" href=https://colab.research.google.com/notebooks/data_table.ipynb>data table notebook</a>'\n",
              "            + ' to learn more about interactive tables.';\n",
              "          element.innerHTML = '';\n",
              "          dataTable['output_type'] = 'display_data';\n",
              "          await google.colab.output.renderOutput(dataTable, element);\n",
              "          const docLink = document.createElement('div');\n",
              "          docLink.innerHTML = docLinkHtml;\n",
              "          element.appendChild(docLink);\n",
              "        }\n",
              "      </script>\n",
              "    </div>\n",
              "  </div>\n",
              "  "
            ]
          },
          "metadata": {},
          "execution_count": 4
        }
      ]
    },
    {
      "cell_type": "code",
      "source": [
        "tree = Tree()\n",
        "tree.create_node(\"Root\", \"root\")  # root node\n",
        "\n",
        "def generate_tree(data, tree, branch=\"\", parent=\"root\"):\n",
        "    \"\"\"Populates the tree with questions and candidate animals.\n",
        "    \n",
        "    Args:\n",
        "        data: The dataset to use\n",
        "        tree: The tree to populate\n",
        "        branch: '+' if the previous condition was true, '-' otherwise.\n",
        "        parent: The parent node, so that we can attach children nodes to it.\n",
        "    \n",
        "    Note: Treelib sorts the name of the nodes by alphabetical order, its important\n",
        "    to name the nodes such that the first one is the result of a positive condition,\n",
        "    the second one, the negative condition. This has been taken care of if you use\n",
        "    the code template by naming the node \"+something\" and \"-something\" (In ASCII, +\n",
        "    (42) is before - (45)).\n",
        "    \"\"\"\n",
        "    # STUDENT CODE:\n",
        "    # Find the column with the highest entropy\n",
        "    entropies = []\n",
        "    for i in range(0,len(data.columns)):\n",
        "      entropies.append(binary_entropy(data.iloc[:,i]))\n",
        "    # The columns with a null entropy can be removed\n",
        "    entropies=np.array(entropies)\n",
        "    if 0 in entropies:\n",
        "      loc_0=np.where(entropies==0)\n",
        "      data.drop(data.columns[loc_0], axis=1, inplace=True)\n",
        "    # If there aren't any columns left to discriminate the animals, we stop\n",
        "    # If there is only one animal and plenty of columns, we also stop\n",
        "    no_column_left = len(data.columns)==0\n",
        "    one_animal_left = len(data.index)==1 and len(data.columns)>=2\n",
        "    if no_column_left or one_animal_left:\n",
        "        tree.create_node(branch+\", \".join(data.index), parent=parent)\n",
        "        return\n",
        "    # If we are here, it means the data can be split some more.\n",
        "    # entropies might have more columns than the current data, since\n",
        "    # we removed some columns.\n",
        "    for i in entropy:\n",
        "      if(i==0):\n",
        "        entropy.remove(0)\n",
        "    # We find the column with the highest entropy\n",
        "    max_col=np.argmax(entropy)\n",
        "    selected_column=data.columns[max_col]\n",
        "    # We add the column to the tree under the current parent\n",
        "    node = tree.create_node(branch + selected_column, parent=parent)\n",
        "    # we split the data by column and remove the said column\n",
        "    \n",
        "    mask=data.iloc[:,max_col] == 1\n",
        "\n",
        "    # We generate the branches **recursively**\n",
        "    # If the answer to the question was \"yes\"\n",
        "    generate_tree(data[mask], tree, branch=\"+\", parent=node)\n",
        "    # If the answer to the question was \"false\"\n",
        "    generate_tree(data[~mask], tree, branch=\"-\", parent=node)\n",
        "\n",
        "# The tree is generated\n",
        "generate_tree(df, tree)\n",
        "# The tree is plotted\n",
        "tree.show()"
      ],
      "metadata": {
        "colab": {
          "base_uri": "https://localhost:8080/"
        },
        "id": "4cNZvcoh6op8",
        "outputId": "ea8588f6-b2d8-4ed8-aa45-075f2c6e6c58"
      },
      "execution_count": null,
      "outputs": [
        {
          "output_type": "stream",
          "name": "stdout",
          "text": [
            "Root\n",
            "└── is it warm blooded?\n",
            "    ├── +can it fly?\n",
            "    │   ├── +is it endangered?\n",
            "    │   │   ├── +eagle\n",
            "    │   │   └── -duck\n",
            "    │   └── -is it endangered?\n",
            "    │       ├── +does it have hair?\n",
            "    │       │   ├── +man\n",
            "    │       │   └── -elephant\n",
            "    │       └── -does it live in groups?\n",
            "    │           ├── +rabbit\n",
            "    │           └── -cat\n",
            "    └── -can it fly?\n",
            "        ├── +does it live in groups?\n",
            "        │   ├── +bee\n",
            "        │   └── -fly\n",
            "        └── -is it a vertebrate?\n",
            "            ├── +does it live in groups?\n",
            "            │   ├── +her\n",
            "            │   └── -lizard\n",
            "            └── -does it live in groups?\n",
            "                ├── +ant\n",
            "                └── -cpl\n",
            "\n"
          ]
        },
        {
          "output_type": "stream",
          "name": "stderr",
          "text": [
            "/usr/local/lib/python3.7/dist-packages/pandas/core/frame.py:4913: SettingWithCopyWarning: \n",
            "A value is trying to be set on a copy of a slice from a DataFrame\n",
            "\n",
            "See the caveats in the documentation: https://pandas.pydata.org/pandas-docs/stable/user_guide/indexing.html#returning-a-view-versus-a-copy\n",
            "  errors=errors,\n"
          ]
        }
      ]
    },
    {
      "cell_type": "code",
      "source": [
        "print(\"Depth of the tree:\", tree.depth())"
      ],
      "metadata": {
        "colab": {
          "base_uri": "https://localhost:8080/"
        },
        "id": "Vb_ZCuzM6xU5",
        "outputId": "9c294519-9881-49e3-ae5b-570575325734"
      },
      "execution_count": null,
      "outputs": [
        {
          "output_type": "stream",
          "name": "stdout",
          "text": [
            "Depth of the tree: 5\n"
          ]
        }
      ]
    },
    {
      "cell_type": "code",
      "source": [
        "# No need to add code here!\n",
        "# Just run this and enjoy :)\n",
        "def ask_yesno(question):\n",
        "    \"\"\"Checks that the written answer is valid. Iterates otherwise.\"\"\"\n",
        "    while True:\n",
        "        answer = input(question + \" \").lower().strip()\n",
        "        if answer == \"y\" or answer == \"yes\":\n",
        "            return True\n",
        "        if answer == \"n\" or answer == \"no\":\n",
        "            return False\n",
        "        print(\"Just answer 'yes' or 'no'.\")\n",
        "\n",
        "print(\"Pick an animal!\")\n",
        "print()\n",
        "\n",
        "question = tree.children(\"root\")[0]\n",
        "while True:\n",
        "    # Have we found the answer?\n",
        "    if question.is_leaf():\n",
        "        print(\"I think you chose a \" + question.tag)\n",
        "        break\n",
        "    # Otherwise we keep asking\n",
        "    answer = ask_yesno(question.tag)\n",
        "    children = tree.children(question.identifier)\n",
        "    question = children[0] if answer else children[1]"
      ],
      "metadata": {
        "colab": {
          "base_uri": "https://localhost:8080/"
        },
        "id": "yqYg6r4R605B",
        "outputId": "90574a05-6c3b-4e2b-b5f2-3265b0ee6636"
      },
      "execution_count": null,
      "outputs": [
        {
          "output_type": "stream",
          "name": "stdout",
          "text": [
            "Pick an animal!\n",
            "\n",
            "is it warm blooded? yes\n",
            "+can it fly? no\n",
            "-is it endangered? no\n",
            "-does it live in groups? no\n",
            "I think you chose a -cat\n"
          ]
        }
      ]
    }
  ]
}