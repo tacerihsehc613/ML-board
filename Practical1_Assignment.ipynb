{
  "nbformat": 4,
  "nbformat_minor": 0,
  "metadata": {
    "colab": {
      "provenance": [],
      "authorship_tag": "ABX9TyP3+3HWQADYYhevizQLmXYO",
      "include_colab_link": true
    },
    "kernelspec": {
      "name": "python3",
      "display_name": "Python 3"
    },
    "language_info": {
      "name": "python"
    }
  },
  "cells": [
    {
      "cell_type": "markdown",
      "metadata": {
        "id": "view-in-github",
        "colab_type": "text"
      },
      "source": [
        "<a href=\"https://colab.research.google.com/github/tacerihsehc613/ML-board/blob/main/Practical1_Assignment.ipynb\" target=\"_parent\"><img src=\"https://colab.research.google.com/assets/colab-badge.svg\" alt=\"Open In Colab\"/></a>"
      ]
    },
    {
      "cell_type": "code",
      "execution_count": null,
      "metadata": {
        "colab": {
          "base_uri": "https://localhost:8080/"
        },
        "id": "PL2nUTsrPtFB",
        "outputId": "b24c88e3-4089-42ff-c2fe-ac01d72f6883"
      },
      "outputs": [
        {
          "output_type": "stream",
          "name": "stdout",
          "text": [
            "Every other element in a list: [1, 3, 5]\n"
          ]
        }
      ],
      "source": [
        "#1a)\n",
        "generic_list = [0, 1, 2, 3, 4, 5, 6]\n",
        "print(\"Every other element in a list:\", list(filter(lambda x: (x % 2 != 0), generic_list))) "
      ]
    },
    {
      "cell_type": "code",
      "source": [
        "#1b)\n",
        "# ASSIGNMENT:\n",
        "# sort the \"generic_list\" in ascending order\n",
        "\n",
        "generic_list = [1, 932, 77, 52, 2]\n",
        "# YOUR CODE HERE\n",
        "# Hint: There is a sorting function in python that will do this. Google it.\n",
        "generic_list.sort()\n",
        "print('List in Ascending Order: ', generic_list)"
      ],
      "metadata": {
        "colab": {
          "base_uri": "https://localhost:8080/"
        },
        "id": "CCVkRbBxP6GD",
        "outputId": "bead1c99-37b0-4e47-e8fb-06e007e525fe"
      },
      "execution_count": null,
      "outputs": [
        {
          "output_type": "stream",
          "name": "stdout",
          "text": [
            "List in Ascending Order:  [1, 2, 52, 77, 932]\n"
          ]
        }
      ]
    },
    {
      "cell_type": "code",
      "source": [
        "lst1 = [0, 1, 3, 5, 6, 7, 5, 8, 9, 10, 12]\n",
        "lst2 = [1, 2, 2, 1, 2, 4, 5, 8, 2, 13, 9, 11]\n",
        "\n",
        "# ASSIGNMENT:\n",
        "# a) print the union of elements between the two lists,\n",
        "#    i.e. all the elements should be included once.\n",
        "# b) print the intersection of elements between the two lists,\n",
        "#    i.e. the elements that appear in both lists.\n",
        "#\n",
        "# HINT: look into `sets` in Python\n",
        "\n",
        "#a)\n",
        "print(set(lst1).union(set(lst2)))\n",
        "#b)\n",
        "print(set(lst1).intersection(set(lst2)))"
      ],
      "metadata": {
        "colab": {
          "base_uri": "https://localhost:8080/"
        },
        "id": "8_IAeW9BP8RG",
        "outputId": "67ac35b3-a866-45ac-b29e-056f9b204989"
      },
      "execution_count": null,
      "outputs": [
        {
          "output_type": "stream",
          "name": "stdout",
          "text": [
            "{0, 1, 2, 3, 4, 5, 6, 7, 8, 9, 10, 11, 12, 13}\n",
            "{8, 1, 5, 9}\n"
          ]
        }
      ]
    },
    {
      "cell_type": "code",
      "source": [
        "# ASSIGNMENT:\n",
        "# Write a function which will return from a list:\n",
        "#   1. The highest\n",
        "#   2. The lowest\n",
        "#   3. The first\n",
        "#   4. The last elements from a list\n",
        "\n",
        "def our_custom_function(lst):\n",
        "    # YOUR CODE HERE\n",
        "    highest = max(lst)\n",
        "    lowest = min(lst)\n",
        "    first = lst[0]\n",
        "    last = lst[-1]\n",
        "\n",
        "    return (highest, lowest, first, last)\n",
        "\n",
        "\n",
        "\n",
        "lst = [6, 90, 42, -1, 45]\n",
        "\n",
        "highest, lowest, first, last = our_custom_function(lst)\n",
        "\n",
        "assert highest == 90\n",
        "assert lowest == -1\n",
        "assert first == 6\n",
        "assert last == 45"
      ],
      "metadata": {
        "id": "Bqviq6eFP_vy"
      },
      "execution_count": null,
      "outputs": []
    },
    {
      "cell_type": "code",
      "source": [
        "# List comprehention\n",
        "squared = [x**2 for x in range(10)]\n",
        "print(\"Squared list:  \\t\\t\\t \", squared)\n",
        "\n",
        "# ASSIGNMENT: \n",
        "# Generate a list of the 20 Fibbonacci numbers, \n",
        "#    BUT exclude all odd numbers Fibbonacci numbers\n",
        "\n",
        "def fib(n):\n",
        "    if n <= 1:\n",
        "        return 1\n",
        "    else:\n",
        "        return fib(n-1) + fib(n-2)\n",
        "\n",
        "\n",
        "# TODO YOUR CODE HERE\n",
        "lst=list(filter(lambda x: (x % 2 == 0), [fib(x) for x in range(20)]))\n",
        "print(lst)\n",
        "assert lst == [2, 8, 34, 144, 610, 2584]"
      ],
      "metadata": {
        "colab": {
          "base_uri": "https://localhost:8080/"
        },
        "id": "31jYNG3TQEwu",
        "outputId": "a297b22b-03b7-4dbb-c11b-cc3df0159d96"
      },
      "execution_count": null,
      "outputs": [
        {
          "output_type": "stream",
          "name": "stdout",
          "text": [
            "Squared list:  \t\t\t  [0, 1, 4, 9, 16, 25, 36, 49, 64, 81]\n",
            "[2, 8, 34, 144, 610, 2584]\n"
          ]
        }
      ]
    },
    {
      "cell_type": "code",
      "source": [
        "import numpy as np\n",
        "arr = np.array([0, 1, 2, 3, 4, 5, 6, 7, 8, 9])\n",
        "# Convert 1D array to a 2D numpy array of 2 rows and 3 columns.\n",
        "arr_2d = np. reshape(arr, (2, 5))\n",
        "print(arr_2d)"
      ],
      "metadata": {
        "colab": {
          "base_uri": "https://localhost:8080/"
        },
        "id": "9TUhhbwnQHZY",
        "outputId": "e48cdd32-baa1-4e34-8fdb-f2c70386181a"
      },
      "execution_count": null,
      "outputs": [
        {
          "output_type": "stream",
          "name": "stdout",
          "text": [
            "[[0 1 2 3 4]\n",
            " [5 6 7 8 9]]\n"
          ]
        }
      ]
    },
    {
      "cell_type": "code",
      "source": [
        "import numpy as np\n",
        "\n",
        "arr = np.array([1, 2, 3, 4, 5, 6])\n",
        "print(f'shape before: {arr.shape}')\n",
        "print(f'dimension before: {arr.ndim}')\n",
        "\n",
        "# ASSIGNMENT\n",
        "# extend or reshape the 1D array into a 2D array - LOOKUP ONLINE\n",
        "# i.e. it should have the shape (1,6).\n",
        "\n",
        "# YOUR CODE HERE\n",
        "arr = np. reshape(arr, (1, 6))\n",
        "print(f'\\nshape after: {arr.shape}')\n",
        "print(f'dimension after: {arr.ndim}')\n",
        "\n",
        "assert arr.ndim == 2\n",
        "assert arr.shape[0] == 1 and arr.shape[1] == 6 \n",
        "\n",
        "# Feel free to reshape the array to other dimensions as well"
      ],
      "metadata": {
        "colab": {
          "base_uri": "https://localhost:8080/"
        },
        "id": "mmvS6k0vQMwJ",
        "outputId": "f06ab113-9049-4e9e-b8b3-28d791a362a2"
      },
      "execution_count": null,
      "outputs": [
        {
          "output_type": "stream",
          "name": "stdout",
          "text": [
            "shape before: (6,)\n",
            "dimension before: 1\n",
            "\n",
            "shape after: (1, 6)\n",
            "dimension after: 2\n"
          ]
        }
      ]
    },
    {
      "cell_type": "code",
      "source": [
        "M = np.array([[23, 10, 12],\n",
        "              [69, 30, 36],\n",
        "              [92, 40, 48]])\n",
        "\n",
        "\n",
        "# ASSIGNMENT: \n",
        "# a) Square an matrix M\n",
        "# b) Square the values in a Matrix M\n",
        "\n",
        "\n",
        "# Squaring the matrix\n",
        "\n",
        "# YOUR CODE HERE\n",
        "sqr_arr = np.matmul(M,M)\n",
        "\n",
        "assert np.all(sqr_arr == np.array([[2323, 1010, 1212],\n",
        "                                  [6969, 3030, 3636],\n",
        "                                  [9292, 4040, 4848]]))\n",
        "\n",
        "# Square the values in an array\n",
        "\n",
        "# YOUR CODE HERE\n",
        "sqr_val = M**2\n",
        "\n",
        "assert np.all(sqr_val == np.array([[529,  100,  144],\n",
        "                                  [4761, 900, 1296],\n",
        "                                  [8464, 1600, 2304]]))"
      ],
      "metadata": {
        "id": "hCAQDlXYQjsA"
      },
      "execution_count": null,
      "outputs": []
    },
    {
      "cell_type": "code",
      "source": [
        "rand = np.random.RandomState(42)\n",
        "\n",
        "# ASSIGNMENT\n",
        "# Generate a random array of whole numbers between (0, 10) \n",
        "# with the size of 3x5. Then sort the array along the x-axis \n",
        "\n",
        "# YOUR CODE HERE\n",
        "arr = np.sort(rand.randint(10, size=(3,5)),axis=1)\n",
        "\n",
        "\n",
        "assert np.all(arr == np.array([[3, 4, 6, 6, 7],\n",
        "                               [2, 4, 6, 7, 9],\n",
        "                               [2, 3, 5, 7, 7]]))"
      ],
      "metadata": {
        "id": "O3ZmR3p6QyzV"
      },
      "execution_count": null,
      "outputs": []
    },
    {
      "cell_type": "code",
      "source": [
        "# ASSIGNMENT: \n",
        "# Filter out duplicate AND odd numbers\n",
        "\n",
        "# YOUR CODE HERE\n",
        "arr = np.array([1, 4, 2, 2, 3, 4, 4, 4, 2, 3, 4, 5, 6])\n",
        "arr = np.unique(arr) \n",
        "arr = arr[arr%2==0]\n",
        "\n",
        "assert np.all(arr == np.array([2, 4, 6]))\n",
        "\n"
      ],
      "metadata": {
        "id": "yGkMo85_Q2vt"
      },
      "execution_count": null,
      "outputs": []
    },
    {
      "cell_type": "code",
      "source": [
        "   \n",
        "\"\"\" What is the difference between the following two statements?  \n",
        "a) \n",
        "```{python}\n",
        "arr1 = np.array([1, 2, 3])\n",
        "arr2 = arr1\n",
        "arr2[0] = 100\n",
        "```\n",
        "b)\n",
        "```{python}\n",
        "arr1 = np.array([1, 2, 3])\n",
        "arr2 = arr1.copy()\n",
        "arr2[0] = 100\n",
        "```\n",
        "\n",
        "\n",
        "**YOUR ANSWER**: The main difference between a) and b) is that \n",
        "in b), arr2 is a new array but in a), arr2 is just a view of the original arr1  \"\"\"\n",
        "\n",
        "arr1 = np.array([1, 2, 3])\n",
        "arr2 = arr1\n",
        "arr2[0] = 100\n",
        "print(arr1)\n",
        "print(arr2)\n",
        "\n",
        "\n",
        "\n",
        "arr1 = np.array([1, 2, 3])\n",
        "arr2 = arr1.copy()\n",
        "arr2[0] = 100\n",
        "print(arr1)\n",
        "print(arr2)\n"
      ],
      "metadata": {
        "colab": {
          "base_uri": "https://localhost:8080/"
        },
        "id": "J-FQuvrWQ7YC",
        "outputId": "b90d9fe2-526b-4372-e84f-d0679e2ffd07"
      },
      "execution_count": null,
      "outputs": [
        {
          "output_type": "stream",
          "name": "stdout",
          "text": [
            "[100   2   3]\n",
            "[100   2   3]\n",
            "[1 2 3]\n",
            "[100   2   3]\n"
          ]
        }
      ]
    },
    {
      "cell_type": "code",
      "source": [
        "# ASSIGNMENT:\n",
        "# Complete the random walk function\n",
        "\n",
        "def random_walk(n=1000):\n",
        "  # Probability to move up or down\n",
        "  prob = [0.5] \n",
        " \n",
        "  # statically defining the starting position\n",
        "  start = 0\n",
        "  positions = [start] \n",
        "  step_set = [-1, 1]\n",
        "  rr = np.random.random(1000)\n",
        "  downp = rr < prob[0]\n",
        "  upp = rr >= prob[0]\n",
        "  steps = np.random.choice(a=step_set, size=n)\n",
        "  next=0\n",
        "  for i in range(n-1):\n",
        "    next = positions[-1] + steps[i]\n",
        "    positions.append(next)\n",
        "  return positions\n",
        "np.random.seed(7)\n",
        "steps = np.arange(1000)\n",
        "walk = random_walk(1000)\n",
        "import matplotlib.pyplot as plt\n",
        "\n",
        "plt.figure()\n",
        "plt.plot(steps, walk)     \n",
        "plt.title(\"Random walks\")\n",
        "plt.ylabel(\"distance (d)\")\n",
        "plt.xlabel(\"steps (s)\")"
      ],
      "metadata": {
        "colab": {
          "base_uri": "https://localhost:8080/",
          "height": 313
        },
        "id": "4s3xsSKtQ9ln",
        "outputId": "0298acc8-4e2f-4002-c888-f6ef3311d02b"
      },
      "execution_count": null,
      "outputs": [
        {
          "output_type": "execute_result",
          "data": {
            "text/plain": [
              "Text(0.5, 0, 'steps (s)')"
            ]
          },
          "metadata": {},
          "execution_count": 21
        },
        {
          "output_type": "display_data",
          "data": {
            "image/png": "[encoded data removed]",
            "text/plain": [
              "<Figure size 432x288 with 1 Axes>"
            ]
          },
          "metadata": {
            "needs_background": "light"
          }
        }
      ]
    },
    {
      "cell_type": "code",
      "source": [
        "from google.colab import drive\n",
        "drive.mount('/content/drive')\n"
      ],
      "metadata": {
        "colab": {
          "base_uri": "https://localhost:8080/"
        },
        "id": "v8W0t4M9S4jF",
        "outputId": "f508ccc8-fa84-4033-bc6d-d7849f821809"
      },
      "execution_count": null,
      "outputs": [
        {
          "output_type": "stream",
          "name": "stdout",
          "text": [
            "Mounted at /content/drive\n"
          ]
        }
      ]
    },
    {
      "cell_type": "code",
      "source": [
        "# To find out where your notebook is located: \n",
        "#   1. Press the \"File/Arkiv\" option in the dropdown menu \n",
        "#   2. From that menu, press the \"Locate in Drive/Hitta på Drive\"\n",
        "#   3. The name at the top will indicate where your notebooks are stored\n",
        "#   4. If the top name is NOT \"Colab Notebooks\", change it to the correct one in the command below\n",
        "\n",
        "%cd /content/drive/My Drive/Colab Notebooks"
      ],
      "metadata": {
        "colab": {
          "base_uri": "https://localhost:8080/"
        },
        "id": "Qfx_XtzVTDWV",
        "outputId": "49f027db-4727-4056-87f2-d1c20c3e1e06"
      },
      "execution_count": null,
      "outputs": [
        {
          "output_type": "stream",
          "name": "stdout",
          "text": [
            "/content/drive/My Drive/Colab Notebooks\n"
          ]
        }
      ]
    },
    {
      "cell_type": "code",
      "source": [
        "%%capture\n",
        "!sudo apt-get install texlive-xetex texlive-fonts-recommended texlive-generic-recommended\n",
        "\n",
        "# Change the name of the notebook to convert to your notebook name here\n",
        "!jupyter nbconvert --to pdf Export_Colab_Notebook_to_PDF.ipynbx\n"
      ],
      "metadata": {
        "id": "PM4k85VzUXu9"
      },
      "execution_count": null,
      "outputs": []
    }
  ]
}