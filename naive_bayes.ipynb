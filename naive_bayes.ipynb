{
  "nbformat": 4,
  "nbformat_minor": 0,
  "metadata": {
    "colab": {
      "provenance": [],
      "authorship_tag": "ABX9TyOxQatEv3Ib4M2fuWMiWMCj",
      "include_colab_link": true
    },
    "kernelspec": {
      "name": "python3",
      "display_name": "Python 3"
    },
    "language_info": {
      "name": "python"
    }
  },
  "cells": [
    {
      "cell_type": "markdown",
      "metadata": {
        "id": "view-in-github",
        "colab_type": "text"
      },
      "source": [
        "<a href=\"https://colab.research.google.com/github/tacerihsehc613/ML-board/blob/main/naive_bayes.ipynb\" target=\"_parent\"><img src=\"https://colab.research.google.com/assets/colab-badge.svg\" alt=\"Open In Colab\"/></a>"
      ]
    },
    {
      "cell_type": "code",
      "execution_count": null,
      "metadata": {
        "id": "MKhQ_N1UVJFw",
        "colab": {
          "base_uri": "https://localhost:8080/"
        },
        "outputId": "7df4373d-75bd-469b-8d2c-11339b1fd43a"
      },
      "outputs": [
        {
          "output_type": "stream",
          "name": "stdout",
          "text": [
            "Requirement already satisfied: pandas==1.2.1 in /usr/local/lib/python3.7/dist-packages (1.2.1)\n",
            "Requirement already satisfied: python-dateutil>=2.7.3 in /usr/local/lib/python3.7/dist-packages (from pandas==1.2.1) (2.8.2)\n",
            "Requirement already satisfied: numpy>=1.16.5 in /usr/local/lib/python3.7/dist-packages (from pandas==1.2.1) (1.19.4)\n",
            "Requirement already satisfied: pytz>=2017.3 in /usr/local/lib/python3.7/dist-packages (from pandas==1.2.1) (2018.9)\n",
            "Requirement already satisfied: six>=1.5 in /usr/local/lib/python3.7/dist-packages (from python-dateutil>=2.7.3->pandas==1.2.1) (1.15.0)\n",
            "Requirement already satisfied: numpy==1.19.4 in /usr/local/lib/python3.7/dist-packages (1.19.4)\n",
            "Requirement already satisfied: scikit-learn==0.24.0 in /usr/local/lib/python3.7/dist-packages (0.24.0)\n",
            "Requirement already satisfied: joblib>=0.11 in /usr/local/lib/python3.7/dist-packages (from scikit-learn==0.24.0) (1.1.0)\n",
            "Requirement already satisfied: scipy>=0.19.1 in /usr/local/lib/python3.7/dist-packages (from scikit-learn==0.24.0) (1.4.1)\n",
            "Requirement already satisfied: numpy>=1.13.3 in /usr/local/lib/python3.7/dist-packages (from scikit-learn==0.24.0) (1.19.4)\n",
            "Requirement already satisfied: threadpoolctl>=2.0.0 in /usr/local/lib/python3.7/dist-packages (from scikit-learn==0.24.0) (3.1.0)\n"
          ]
        }
      ],
      "source": [
        "#stuff to import\n",
        "import pandas as pd\n",
        "import numpy as np\n",
        "import random\n",
        "import sklearn\n",
        "from sklearn.model_selection import train_test_split\n",
        "!pip install pandas==1.2.1\n",
        "!pip install numpy==1.19.4\n",
        "!pip install scikit-learn==0.24.0"
      ]
    },
    {
      "cell_type": "code",
      "source": [
        "assert pd.__version__ == \"1.2.1\", \"Looks like you don't have the same version of pandas as us!\"\n",
        "assert np.__version__ == \"1.19.4\", \"Looks like you don't have the same version of numpy as us!\"\n",
        "assert sklearn.__version__ == \"0.24.0\", \"Looks like you don't have the same version of sklearn as us!\"\n"
      ],
      "metadata": {
        "id": "QTalrsNoXWa2"
      },
      "execution_count": null,
      "outputs": []
    },
    {
      "cell_type": "code",
      "source": [
        "import os\n",
        "from google.colab import drive\n",
        "drive.mount('/content/drive/')\n",
        "%cd /content/drive/MyDrive/Colab Notebooks\n",
        "os.listdir('.')"
      ],
      "metadata": {
        "colab": {
          "base_uri": "https://localhost:8080/"
        },
        "id": "eqcfcgIhxIXA",
        "outputId": "fcaa39d1-f694-4d69-b64e-3b7e983a415e"
      },
      "execution_count": null,
      "outputs": [
        {
          "output_type": "stream",
          "name": "stdout",
          "text": [
            "Mounted at /content/drive/\n",
            "/content/drive/MyDrive/Colab Notebooks\n"
          ]
        },
        {
          "output_type": "execute_result",
          "data": {
            "text/plain": [
              "['Tweets-BarackObama.csv',\n",
              " 'trump_20200530.csv',\n",
              " 'train.csv',\n",
              " 'sample_solution.csv',\n",
              " 'test.csv',\n",
              " 'Practical1_Assignment.ipynb의 사본',\n",
              " 'Practical2_Assignment.ipynb',\n",
              " 'src',\n",
              " 'KNN.ipynb',\n",
              " 'Project1.ipynb',\n",
              " 'naive_bayes.ipynb']"
            ]
          },
          "metadata": {},
          "execution_count": 4
        }
      ]
    },
    {
      "cell_type": "code",
      "source": [
        "df_t = pd.read_csv('trump_20200530.csv')\n",
        "trump_tweets = df_t['text']\n",
        "df_t = pd.read_csv('Tweets-BarackObama.csv')\n",
        "obama_tweets = df_t['Tweet-text']\n",
        "\n",
        "tweet_data = trump_tweets.append(obama_tweets, ignore_index=True)\n",
        "tweet_labels = np.array(['T' for _ in range(len(trump_tweets))] + ['O' for _ in range(len(obama_tweets))])"
      ],
      "metadata": {
        "id": "cYdxpXJNxBwx"
      },
      "execution_count": null,
      "outputs": []
    },
    {
      "cell_type": "code",
      "source": [
        "lab, counts = np.unique(tweet_labels, return_counts=True)\n",
        "print('Number of tweets about ', lab[0], ': ', counts[0])\n",
        "print('Number of tweets about ', lab[1], ': ', counts[1])"
      ],
      "metadata": {
        "colab": {
          "base_uri": "https://localhost:8080/"
        },
        "id": "4O3dXicwxW4L",
        "outputId": "3316c9e4-fc29-46d3-a035-9a5c0978edae"
      },
      "execution_count": null,
      "outputs": [
        {
          "output_type": "stream",
          "name": "stdout",
          "text": [
            "Number of tweets about  O :  6851\n",
            "Number of tweets about  T :  18467\n"
          ]
        }
      ]
    },
    {
      "cell_type": "code",
      "source": [
        "from typing import Type\n",
        "from sklearn.model_selection import train_test_split\n",
        "#Split data into train_tweets, test_tweets, train_labels and test_labels  \n",
        "train_tweets, test_tweets, train_labels, test_labels = train_test_split(tweet_data,tweet_labels)\n",
        "print(train_tweets)\n",
        "print(type(train_tweets))\n",
        "print(train_tweets[0])\n",
        "print(train_labels)\n",
        "print(type(train_labels))\n",
        "print(train_labels[0])"
      ],
      "metadata": {
        "id": "pt9j9G-zxv8e",
        "colab": {
          "base_uri": "https://localhost:8080/"
        },
        "outputId": "c63777ee-40a0-48b6-aaaf-59dfdb73eeb3"
      },
      "execution_count": null,
      "outputs": [
        {
          "output_type": "stream",
          "name": "stdout",
          "text": [
            "6816     RT @GOPoversight: • No quid pro quo• No pressu...\n",
            "13013    We are pleased to announce that Matthew G. Whi...\n",
            "3211     RT @SenateGOP: American workers are WINNING an...\n",
            "7808     The Whistleblower’s complaint is completely di...\n",
            "24412    “We may be momentarily knocked off our feet bu...\n",
            "                               ...                        \n",
            "3055     RT @DanScavino: “I’m a BIG FAN of @realDonaldT...\n",
            "8228     .@CNN &amp; @MSNBC were all set to have a BIG ...\n",
            "17270    I will be holding a major briefing on the Opio...\n",
            "6128                               https://t.co/ru2n7i2gzu\n",
            "24349    While many in Congress continue to deny the sc...\n",
            "Length: 18988, dtype: object\n",
            "<class 'pandas.core.series.Series'>\n",
            "RT @ScottAdamsSays: Malaria drug and zinc the missing link https://t.co/FC9CpuH0Yr via @theconwom\n",
            "['T' 'T' 'T' ... 'T' 'T' 'O']\n",
            "<class 'numpy.ndarray'>\n",
            "T\n"
          ]
        }
      ]
    },
    {
      "cell_type": "code",
      "source": [
        "P_O=len(tweet_labels[tweet_labels == 'O']) / len(tweet_labels)\n",
        "P_T=len(tweet_labels[tweet_labels == 'T']) / len(tweet_labels)\n",
        "print(P_O,P_T)"
      ],
      "metadata": {
        "colab": {
          "base_uri": "https://localhost:8080/"
        },
        "id": "ihZj3RnUyHcN",
        "outputId": "61cba509-d69f-412b-fff6-825a100eed0b"
      },
      "execution_count": null,
      "outputs": [
        {
          "output_type": "stream",
          "name": "stdout",
          "text": [
            "0.2705979935223951 0.7294020064776049\n"
          ]
        }
      ]
    },
    {
      "cell_type": "code",
      "source": [
        "word_counter = dict()\n",
        "for (tweet, label) in zip(train_tweets, train_labels):\n",
        "  tweet_w = tweet.strip().split(' ')\n",
        "  tweet_w=list(set(tweet_w))           \n",
        "  for i in range(len(tweet_w)):\n",
        "    if tweet_w[i].lower() not in word_counter:\n",
        "      word_counter[tweet_w[i].lower()]={\"O\":0, \"T\":0}\n",
        "      word_counter[tweet_w[i].lower()][label]+=1\n",
        "    else:\n",
        "      word_counter[tweet_w[i].lower()][label]+=1\n",
        "print(len(word_counter))\n",
        "print(word_counter['rt'])"
      ],
      "metadata": {
        "colab": {
          "base_uri": "https://localhost:8080/"
        },
        "id": "1mBXdiLByfIs",
        "outputId": "e4262abe-e41a-41d4-ad54-6894fe955359"
      },
      "execution_count": null,
      "outputs": [
        {
          "output_type": "stream",
          "name": "stdout",
          "text": [
            "44164\n",
            "{'O': 52, 'T': 4793}\n"
          ]
        }
      ]
    },
    {
      "cell_type": "code",
      "source": [
        "nr_of_words_to_use = 100\n",
        "popular_words = sorted(word_counter.items(), key=lambda x: x[1]['O'] + x[1]['T'], reverse=True)\n",
        "popular_words = [x[0] for x in popular_words[:nr_of_words_to_use]]\n",
        "print(popular_words)"
      ],
      "metadata": {
        "colab": {
          "base_uri": "https://localhost:8080/"
        },
        "id": "3vgxGkBCy_Km",
        "outputId": "760c72f5-993d-424b-95d6-e992d8433eaf"
      },
      "execution_count": null,
      "outputs": [
        {
          "output_type": "stream",
          "name": "stdout",
          "text": [
            "['the', 'to', 'and', 'of', 'a', 'in', 'rt', 'is', 'for', 'on', 'that', 'our', 'are', 'with', 'we', 'will', 'be', 'i', 'this', 'president', 'great', 'you', 'have', 'it', 'obama', 'at', 'they', '&amp;', 'has', 'was', 'all', 'not', 'by', 'from', 'he', 'people', '—president', 'just', 'who', 'as', 'my', 'very', 'your', 'more', 'about', 'so', 'no', 'their', 'if', 'thank', 'democrats', 'do', 'but', 'get', 'now', 'an', 'his', 'new', 'than', 'trump', 'what', 'up', '-', 'out', 'been', 'time', 'should', '', 'big', 'american', 'news', 'or', 'make', 'can', 'fake', 'many', 'would', 'never', 'today', 'one', 'country', '@realdonaldtrump', 'there', 'want', 'when', 'u.s.', 'america', 'house', '@realdonaldtrump:', 'good', 'congress', 'going', 'united', 'how', 'like', 'even', 'much', 'me', 'states', 'only']\n"
          ]
        }
      ]
    },
    {
      "cell_type": "code",
      "source": [
        "P_w_given_t = {}\n",
        "P_w_given_o = {}\n",
        "\n",
        "for word in popular_words:\n",
        "  P_w_given_t[word] = word_counter[word]['T'] / len(tweet_labels[tweet_labels == 'T'])\n",
        "  P_w_given_o[word] = word_counter[word]['O'] / len(tweet_labels[tweet_labels == 'O'])\n"
      ],
      "metadata": {
        "id": "n5SGSdxnzLap"
      },
      "execution_count": null,
      "outputs": []
    },
    {
      "cell_type": "code",
      "source": [
        "classifier = {\n",
        "    'basis'  : popular_words,\n",
        "    'P(T)'   : P_O,\n",
        "    'P(O)'   : P_T,\n",
        "    'P(w|O)' : P_w_given_o,\n",
        "    'P(w|T)' : P_w_given_t\n",
        "    }  "
      ],
      "metadata": {
        "id": "kbZMSb7wz1Rz"
      },
      "execution_count": null,
      "outputs": []
    },
    {
      "cell_type": "code",
      "source": [
        "def tweet_classifier(tweet, classifier_dict):\n",
        "  Trump=1.0\n",
        "  Obama=1.0\n",
        "\n",
        "  words_in_tweet = np.unique([x.lower() for x in tweet.split()])\n",
        "  for i in classifier_dict['basis']:\n",
        "    if(i in words_in_tweet):\n",
        "      #print(classifier_dict['P(w|T)'][i])\n",
        "      Trump = Trump * classifier_dict['P(w|T)'][i]\n",
        "      Obama = Obama * classifier_dict['P(w|O)'][i]\n",
        "    else:\n",
        "      Trump *= (1-classifier_dict['P(w|T)'][i])\n",
        "      Obama *= (1-classifier_dict['P(w|O)'][i])\n",
        "  Trump *= classifier_dict['P(T)']\n",
        "  Obama *= classifier_dict['P(O)']\n",
        "  \n",
        "  if(Trump > Obama): return 'T'\n",
        "  else: return 'O'\n",
        "    \n",
        "# ... Code for classifying tweets using the naive bayes classifier"
      ],
      "metadata": {
        "id": "8eSruStV0BA8"
      },
      "execution_count": null,
      "outputs": []
    },
    {
      "cell_type": "code",
      "source": [
        "def test_classifier(classifier, test_tweets, test_labels):\n",
        "    total = len(test_tweets)\n",
        "    correct = 0\n",
        "    for (tweet,label) in zip(test_tweets, test_labels):\n",
        "        predicted = tweet_classifier(tweet,classifier)\n",
        "        if predicted == label:\n",
        "            correct = correct + 1\n",
        "    return(correct/total)\n",
        "  "
      ],
      "metadata": {
        "id": "3-rYzy1k0G3U"
      },
      "execution_count": null,
      "outputs": []
    },
    {
      "cell_type": "code",
      "source": [
        "acc = test_classifier(classifier, test_tweets, test_labels)\n",
        "print(f\"Accuracy: {acc:.4f}\")"
      ],
      "metadata": {
        "colab": {
          "base_uri": "https://localhost:8080/"
        },
        "id": "Ebtd9s330K3b",
        "outputId": "2388ac47-c5a7-4bde-ba13-1475bf91630d"
      },
      "execution_count": null,
      "outputs": [
        {
          "output_type": "stream",
          "name": "stdout",
          "text": [
            "Accuracy: 0.8521\n"
          ]
        }
      ]
    }
  ]
}